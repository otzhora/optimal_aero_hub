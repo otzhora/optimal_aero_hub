{
 "cells": [
  {
   "cell_type": "code",
   "execution_count": 14,
   "metadata": {
    "collapsed": true
   },
   "outputs": [],
   "source": [
    "import json\n",
    "import os\n",
    "from pathlib import Path\n",
    "\n",
    "import requests\n",
    "from bs4 import BeautifulSoup\n",
    "import pandas as pd\n",
    "from tqdm.notebook import tqdm"
   ]
  },
  {
   "cell_type": "code",
   "execution_count": 2,
   "outputs": [],
   "source": [
    "api_key = \"c07526f63bee4d248b5e3ce31f9d3435\"\n",
    "api_path = f\"https://api.opencagedata.com/geocode/v1/json\""
   ],
   "metadata": {
    "collapsed": false,
    "pycharm": {
     "name": "#%%\n"
    }
   }
  },
  {
   "cell_type": "code",
   "execution_count": 3,
   "outputs": [],
   "source": [
    "def get_proper_api_path(place, api_key=api_key, api_path=api_path):\n",
    "    return f\"{api_path}?q={place}&key={api_key}\""
   ],
   "metadata": {
    "collapsed": false,
    "pycharm": {
     "name": "#%%\n"
    }
   }
  },
  {
   "cell_type": "code",
   "execution_count": 4,
   "outputs": [],
   "source": [
    "def fetch_place(place, **params):\n",
    "    path = get_proper_api_path(place, **params)\n",
    "    res = requests.get(path)\n",
    "\n",
    "    if res.status_code != 200:\n",
    "        print(f\"Cannot fetch {place}\")\n",
    "        raise ValueError\n",
    "\n",
    "    return json.loads(res.content.decode(\"utf8\"))"
   ],
   "metadata": {
    "collapsed": false,
    "pycharm": {
     "name": "#%%\n"
    }
   }
  },
  {
   "cell_type": "code",
   "execution_count": 5,
   "outputs": [],
   "source": [
    "na_path = \"https://en.wikipedia.org/wiki/List_of_busiest_airports_in_North_America\"\n",
    "sa_path = \"https://en.wikipedia.org/wiki/List_of_the_busiest_airports_in_South_America\""
   ],
   "metadata": {
    "collapsed": false,
    "pycharm": {
     "name": "#%%\n"
    }
   }
  },
  {
   "cell_type": "code",
   "execution_count": 6,
   "outputs": [],
   "source": [
    "def fetch_airport_data(path, **params):\n",
    "    res = requests.get(path)\n",
    "\n",
    "    if res.status_code != 200:\n",
    "        print(f\"Cannot fetch {path}\")\n",
    "        raise ValueError\n",
    "\n",
    "    html = res.content.decode(\"utf8\")\n",
    "\n",
    "    soup = BeautifulSoup(html, \"html\")\n",
    "    rows = soup.find(\"table\").find_all(\"tr\")[1:]\n",
    "    airports = []\n",
    "    for row in tqdm(rows):\n",
    "        airports.append(parse_row(row, **params))\n",
    "\n",
    "    return airports"
   ],
   "metadata": {
    "collapsed": false,
    "pycharm": {
     "name": "#%%\n"
    }
   }
  },
  {
   "cell_type": "code",
   "execution_count": 7,
   "outputs": [],
   "source": [
    "def parse_row(row, idxs=(2, 3, 4, 5), is_na=True):\n",
    "    tds = row.find_all(\"td\")\n",
    "    if is_na:\n",
    "        country = tds[idxs[2]].find_all(\"a\")[0][\"title\"]\n",
    "\n",
    "        airport = {\n",
    "            \"name\": tds[idxs[0]].a.string,\n",
    "            \"city\": tds[idxs[1]].a.string,\n",
    "            \"country\": country,\n",
    "            \"passengers\": int(str(tds[idxs[3]].contents[0]).replace(\",\", \"\"))\n",
    "        }\n",
    "        query  = f\"{airport['city']},{airport['country']}\"\n",
    "        res_json = fetch_place(query)[\"results\"]\n",
    "        coords = res_json[0][\"geometry\"]\n",
    "        airport[\"lng\"] = coords[\"lng\"]\n",
    "        airport[\"lat\"] = coords[\"lat\"]\n",
    "        return airport\n",
    "    else:\n",
    "        country = tds[idxs[2]].find_all(\"a\")[-1][\"title\"]\n",
    "\n",
    "        airport = {\n",
    "            \"name\": tds[idxs[0]].a.string,\n",
    "            \"city\": tds[idxs[1]].a.string,\n",
    "            \"country\": country,\n",
    "            \"passengers\": int(str(tds[idxs[3]].contents[0]).replace(\",\", \"\"))\n",
    "        }\n",
    "        query  = f\"{airport['city']},{airport['country']}\"\n",
    "        res_json = fetch_place(query)[\"results\"]\n",
    "        coords = res_json[0][\"geometry\"]\n",
    "        airport[\"lng\"] = coords[\"lng\"]\n",
    "        airport[\"lat\"] = coords[\"lat\"]\n",
    "        return airport"
   ],
   "metadata": {
    "collapsed": false,
    "pycharm": {
     "name": "#%%\n"
    }
   }
  },
  {
   "cell_type": "code",
   "execution_count": 8,
   "outputs": [
    {
     "data": {
      "text/plain": "HBox(children=(HTML(value=''), FloatProgress(value=0.0, max=50.0), HTML(value='')))",
      "application/vnd.jupyter.widget-view+json": {
       "version_major": 2,
       "version_minor": 0,
       "model_id": "3146b4d7c23e48f5ad7a5c37dd53cc8b"
      }
     },
     "metadata": {},
     "output_type": "display_data"
    },
    {
     "name": "stdout",
     "output_type": "stream",
     "text": [
      "\n"
     ]
    }
   ],
   "source": [
    "na_air = fetch_airport_data(na_path)"
   ],
   "metadata": {
    "collapsed": false,
    "pycharm": {
     "name": "#%%\n"
    }
   }
  },
  {
   "cell_type": "code",
   "execution_count": 9,
   "outputs": [
    {
     "data": {
      "text/plain": "HBox(children=(HTML(value=''), FloatProgress(value=0.0, max=25.0), HTML(value='')))",
      "application/vnd.jupyter.widget-view+json": {
       "version_major": 2,
       "version_minor": 0,
       "model_id": "3a8e00fd7cd3483384a1b83b8ea81f4c"
      }
     },
     "metadata": {},
     "output_type": "display_data"
    },
    {
     "name": "stdout",
     "output_type": "stream",
     "text": [
      "\n"
     ]
    }
   ],
   "source": [
    "sa_air = fetch_airport_data(sa_path, idxs=(2, 3, 1, 4), is_na=False)"
   ],
   "metadata": {
    "collapsed": false,
    "pycharm": {
     "name": "#%%\n"
    }
   }
  },
  {
   "cell_type": "code",
   "execution_count": 15,
   "outputs": [],
   "source": [
    "na_df = pd.DataFrame(na_air)\n",
    "sa_df = pd.DataFrame(sa_air)"
   ],
   "metadata": {
    "collapsed": false,
    "pycharm": {
     "name": "#%%\n"
    }
   }
  },
  {
   "cell_type": "code",
   "execution_count": 17,
   "outputs": [],
   "source": [
    "data_path = Path(os.getcwd()).parent/\"data\"\n",
    "\n",
    "na_df.to_csv(data_path/\"na_airports.csv\")\n",
    "sa_df.to_csv(data_path/\"sa_airports.csv\")"
   ],
   "metadata": {
    "collapsed": false,
    "pycharm": {
     "name": "#%%\n"
    }
   }
  },
  {
   "cell_type": "code",
   "execution_count": null,
   "outputs": [],
   "source": [],
   "metadata": {
    "collapsed": false,
    "pycharm": {
     "name": "#%%\n"
    }
   }
  }
 ],
 "metadata": {
  "kernelspec": {
   "display_name": "Python 3",
   "language": "python",
   "name": "python3"
  },
  "language_info": {
   "codemirror_mode": {
    "name": "ipython",
    "version": 2
   },
   "file_extension": ".py",
   "mimetype": "text/x-python",
   "name": "python",
   "nbconvert_exporter": "python",
   "pygments_lexer": "ipython2",
   "version": "2.7.6"
  }
 },
 "nbformat": 4,
 "nbformat_minor": 0
}
